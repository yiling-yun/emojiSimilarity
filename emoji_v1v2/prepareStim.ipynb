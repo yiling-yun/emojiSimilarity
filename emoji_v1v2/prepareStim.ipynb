{
 "cells": [
  {
   "cell_type": "code",
   "execution_count": 20,
   "metadata": {},
   "outputs": [],
   "source": [
    "import os\n",
    "import itertools\n",
    "import random\n",
    "import json"
   ]
  },
  {
   "cell_type": "code",
   "execution_count": 2,
   "metadata": {},
   "outputs": [
    {
     "data": {
      "text/plain": [
       "'/Users/sophieyun/OneDrive - UCLA IT Services/Grad School/Research/Hongjing/Emoji'"
      ]
     },
     "execution_count": 2,
     "metadata": {},
     "output_type": "execute_result"
    }
   ],
   "source": [
    "os.getcwd()"
   ]
  },
  {
   "cell_type": "code",
   "execution_count": 18,
   "metadata": {},
   "outputs": [
    {
     "name": "stdout",
     "output_type": "stream",
     "text": [
      "/Users/sophieyun/OneDrive - UCLA IT Services/Grad School/Research/Hongjing/Emoji/emojiSimilarityCode\n"
     ]
    }
   ],
   "source": [
    "cd emojiSimilarityCode"
   ]
  },
  {
   "cell_type": "code",
   "execution_count": 1,
   "metadata": {},
   "outputs": [],
   "source": [
    "testEmjFileName =[\"836\",\n",
    "\"1098\",\n",
    "\"1140\",\n",
    "\"1223\",\n",
    "\"1192\",\n",
    "\"1126\",\n",
    "\"861\",\n",
    "\"363\",\n",
    "\"108\",\n",
    "\"480\",\n",
    "\"1244\",\n",
    "\"622\",\n",
    "\"1206\",\n",
    "\"855\",\n",
    "\"378\",\n",
    "\"627\",\n",
    "\"677\",\n",
    "\"1183\",\n",
    "\"288\",\n",
    "\"331\",\n",
    "\"904\",\n",
    "\"992\",\n",
    "\"1044\",\n",
    "\"761\",\n",
    "\"720\",\n",
    "\"926\",\n",
    "\"289\",\n",
    "\"1308\",\n",
    "\"1020\",\n",
    "\"159\",\n",
    "\"1394\",\n",
    "\"949\",\n",
    "\"442\",\n",
    "\"1141\",\n",
    "\"1583\",\n",
    "\"545\",\n",
    "\"1332\",\n",
    "\"1422\",\n",
    "\"1331\",\n",
    "\"707\",\n",
    "\"68\",\n",
    "\"70\",\n",
    "\"564\",\n",
    "\"203\",\n",
    "\"1298\",\n",
    "\"966\",\n",
    "\"245\",\n",
    "\"943\"]"
   ]
  },
  {
   "cell_type": "code",
   "execution_count": 6,
   "metadata": {},
   "outputs": [
    {
     "data": {
      "text/plain": [
       "48"
      ]
     },
     "execution_count": 6,
     "metadata": {},
     "output_type": "execute_result"
    }
   ],
   "source": [
    "len(testEmjFileName)"
   ]
  },
  {
   "cell_type": "code",
   "execution_count": 7,
   "metadata": {},
   "outputs": [
    {
     "data": {
      "text/plain": [
       "17296"
      ]
     },
     "execution_count": 7,
     "metadata": {},
     "output_type": "execute_result"
    }
   ],
   "source": [
    "emjComb = list(itertools.combinations(testEmjFileName, 3))\n",
    "len(emjComb)"
   ]
  },
  {
   "cell_type": "code",
   "execution_count": 9,
   "metadata": {},
   "outputs": [],
   "source": [
    "def randomize_order_of_trials (twoDarray):\n",
    "    randArr = random.sample(twoDarray, len(twoDarray))\n",
    "    return randArr"
   ]
  },
  {
   "cell_type": "code",
   "execution_count": 10,
   "metadata": {},
   "outputs": [
    {
     "data": {
      "text/plain": [
       "17296"
      ]
     },
     "execution_count": 10,
     "metadata": {},
     "output_type": "execute_result"
    }
   ],
   "source": [
    "# randomize the order of the trials\n",
    "randTrials = randomize_order_of_trials(emjComb)\n",
    "len(randTrials)"
   ]
  },
  {
   "cell_type": "code",
   "execution_count": 11,
   "metadata": {},
   "outputs": [
    {
     "data": {
      "text/plain": [
       "376.0"
      ]
     },
     "execution_count": 11,
     "metadata": {},
     "output_type": "execute_result"
    }
   ],
   "source": [
    "17296/46"
   ]
  },
  {
   "cell_type": "code",
   "execution_count": 35,
   "metadata": {},
   "outputs": [],
   "source": [
    "easyTrials = [(\"35\", \"32\", \"894\"),\n",
    "    (\"1700\", \"1686\", \"1023\"),\n",
    "    (\"1393\", \"1396\", \"128\"),\n",
    "    (\"546\", \"539\", \"515\"),\n",
    "    (\"1505\", \"1330\", \"1338\"),\n",
    "    (\"927\", \"923\", \"665\")]"
   ]
  },
  {
   "cell_type": "code",
   "execution_count": 36,
   "metadata": {},
   "outputs": [],
   "source": [
    "subjN = 46\n",
    "trialN = int(len(randTrials)/subjN)"
   ]
  },
  {
   "cell_type": "code",
   "execution_count": 37,
   "metadata": {},
   "outputs": [
    {
     "data": {
      "text/plain": [
       "376"
      ]
     },
     "execution_count": 37,
     "metadata": {},
     "output_type": "execute_result"
    }
   ],
   "source": [
    "trialN"
   ]
  },
  {
   "cell_type": "code",
   "execution_count": 50,
   "metadata": {},
   "outputs": [
    {
     "data": {
      "text/plain": [
       "[['32', '894', '35'],\n",
       " ['1700', '1023', '1686'],\n",
       " ['1396', '1393', '128'],\n",
       " ['515', '539', '546'],\n",
       " ['1330', '1505', '1338'],\n",
       " ['665', '927', '923']]"
      ]
     },
     "execution_count": 50,
     "metadata": {},
     "output_type": "execute_result"
    }
   ],
   "source": [
    "[random.sample(triplet, 3) for triplet in easyTrials]"
   ]
  },
  {
   "cell_type": "code",
   "execution_count": 44,
   "metadata": {},
   "outputs": [],
   "source": [
    "# randomize the order of three videos in each triplet\n",
    "def randomize_order_of_elements_in_triplets(twoDarray):\n",
    "    randTriplets = [random.sample(triplet, 3) for triplet in twoDarray]\n",
    "    return randTriplets\n"
   ]
  },
  {
   "cell_type": "code",
   "execution_count": 53,
   "metadata": {},
   "outputs": [],
   "source": [
    "random.seed(0)\n",
    "for i in range(subjN):\n",
    "    subjArr = randTrials[(i * trialN): (i * trialN + trialN)]\n",
    "    subjArr.extend(easyTrials)\n",
    "    randSubjArr = randomize_order_of_trials(subjArr)\n",
    "    randDisSubjArr = randomize_order_of_elements_in_triplets(randSubjArr)\n",
    "    out_file = open(\"input_v2/expt%s.json\" %(i+1), \"w\")\n",
    "    json.dump({k: v for k, v in enumerate(randDisSubjArr)}, out_file)\n",
    "    out_file.close()\n"
   ]
  },
  {
   "cell_type": "code",
   "execution_count": null,
   "metadata": {},
   "outputs": [],
   "source": []
  }
 ],
 "metadata": {
  "kernelspec": {
   "display_name": "dataAnalysis",
   "language": "python",
   "name": "python3"
  },
  "language_info": {
   "codemirror_mode": {
    "name": "ipython",
    "version": 3
   },
   "file_extension": ".py",
   "mimetype": "text/x-python",
   "name": "python",
   "nbconvert_exporter": "python",
   "pygments_lexer": "ipython3",
   "version": "3.10.8"
  },
  "orig_nbformat": 2,
  "vscode": {
   "interpreter": {
    "hash": "cfb80f4cfdf21354628b66da1bbfcf350beb443d3b7e0eb4dc0e2636d59cbd55"
   }
  }
 },
 "nbformat": 4,
 "nbformat_minor": 2
}
