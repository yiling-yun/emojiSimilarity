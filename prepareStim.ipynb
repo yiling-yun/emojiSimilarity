{
 "metadata": {
  "language_info": {
   "codemirror_mode": {
    "name": "ipython",
    "version": 3
   },
   "file_extension": ".py",
   "mimetype": "text/x-python",
   "name": "python",
   "nbconvert_exporter": "python",
   "pygments_lexer": "ipython3",
   "version": "3.10.5-final"
  },
  "orig_nbformat": 2,
  "kernelspec": {
   "name": "python3",
   "display_name": "Python 3.10.5 64-bit ('similarityMamba': conda)",
   "metadata": {
    "interpreter": {
     "hash": "bc98d54e8d89c082638333b58217d83a7eaca1e78ef40dcfb2d5ba56bcb45a62"
    }
   }
  }
 },
 "nbformat": 4,
 "nbformat_minor": 2,
 "cells": [
  {
   "cell_type": "code",
   "execution_count": 10,
   "metadata": {},
   "outputs": [],
   "source": [
    "import itertools\n",
    "import random"
   ]
  },
  {
   "cell_type": "code",
   "execution_count": 50,
   "metadata": {},
   "outputs": [],
   "source": [
    "import os"
   ]
  },
  {
   "cell_type": "code",
   "execution_count": 51,
   "metadata": {},
   "outputs": [
    {
     "output_type": "execute_result",
     "data": {
      "text/plain": [
       "'/'"
      ]
     },
     "metadata": {},
     "execution_count": 51
    }
   ],
   "source": [
    "os.getcwd()"
   ]
  },
  {
   "cell_type": "code",
   "execution_count": 1,
   "metadata": {},
   "outputs": [],
   "source": [
    "testEmjFileName =[\"836\",\n",
    "\"1098\",\n",
    "\"1140\",\n",
    "\"1223\",\n",
    "\"1192\",\n",
    "\"1126\",\n",
    "\"861\",\n",
    "\"363\",\n",
    "\"108\",\n",
    "\"480\",\n",
    "\"1244\",\n",
    "\"622\",\n",
    "\"1206\",\n",
    "\"855\",\n",
    "\"378\",\n",
    "\"627\",\n",
    "\"677\",\n",
    "\"1183\",\n",
    "\"288\",\n",
    "\"331\",\n",
    "\"904\",\n",
    "\"992\",\n",
    "\"1044\",\n",
    "\"761\",\n",
    "\"720\",\n",
    "\"926\",\n",
    "\"289\",\n",
    "\"1308\",\n",
    "\"1020\",\n",
    "\"159\",\n",
    "\"1394\",\n",
    "\"949\",\n",
    "\"442\",\n",
    "\"1141\",\n",
    "\"1583\",\n",
    "\"545\",\n",
    "\"1332\",\n",
    "\"1422\",\n",
    "\"1331\",\n",
    "\"707\",\n",
    "\"68\",\n",
    "\"70\",\n",
    "\"564\",\n",
    "\"203\",\n",
    "\"1298\",\n",
    "\"966\",\n",
    "\"245\",\n",
    "\"943\"]"
   ]
  },
  {
   "cell_type": "code",
   "execution_count": 2,
   "metadata": {},
   "outputs": [
    {
     "output_type": "execute_result",
     "data": {
      "text/plain": [
       "48"
      ]
     },
     "metadata": {},
     "execution_count": 2
    }
   ],
   "source": [
    "len(testEmjFileName)"
   ]
  },
  {
   "cell_type": "code",
   "execution_count": 21,
   "metadata": {},
   "outputs": [
    {
     "output_type": "execute_result",
     "data": {
      "text/plain": [
       "17296"
      ]
     },
     "metadata": {},
     "execution_count": 21
    }
   ],
   "source": [
    "emjComb = list(itertools.combinations(testEmjFileName, 3))\n",
    "len(emjComb)"
   ]
  },
  {
   "cell_type": "code",
   "execution_count": 46,
   "metadata": {},
   "outputs": [],
   "source": [
    "def randomize_order_of_trials (twoDarray):\n",
    "    random.seed(0)\n",
    "    randArr = random.sample(twoDarray, len(twoDarray))\n",
    "    return randArr"
   ]
  },
  {
   "cell_type": "code",
   "execution_count": 47,
   "metadata": {},
   "outputs": [
    {
     "output_type": "execute_result",
     "data": {
      "text/plain": [
       "17296"
      ]
     },
     "metadata": {},
     "execution_count": 47
    }
   ],
   "source": [
    "# randomize the order of the trials\n",
    "randTrials = randomize_order_of_trials(emjComb)\n",
    "len(randTrials)"
   ]
  },
  {
   "cell_type": "code",
   "execution_count": 23,
   "metadata": {},
   "outputs": [
    {
     "output_type": "execute_result",
     "data": {
      "text/plain": [
       "376.0"
      ]
     },
     "metadata": {},
     "execution_count": 23
    }
   ],
   "source": [
    "17296/46"
   ]
  },
  {
   "cell_type": "code",
   "execution_count": 24,
   "metadata": {},
   "outputs": [],
   "source": [
    "easyTrials = [[\"35\", \"32\", \"894\"],\n",
    "    [\"1700\", \"1686\", \"1023\"],\n",
    "    [\"1394\", \"1396\", \"128\"],\n",
    "    [\"545\", \"539\", \"515\"],\n",
    "    [\"1505\", \"1332\", \"1338\"],\n",
    "    [\"926\", \"923\", \"665\"]]"
   ]
  },
  {
   "cell_type": "code",
   "execution_count": 35,
   "metadata": {},
   "outputs": [],
   "source": [
    "subjN = 46\n",
    "trialN = int(len(randTrials)/subjN)"
   ]
  },
  {
   "cell_type": "code",
   "execution_count": 40,
   "metadata": {},
   "outputs": [
    {
     "output_type": "execute_result",
     "data": {
      "text/plain": [
       "376"
      ]
     },
     "metadata": {},
     "execution_count": 40
    }
   ],
   "source": [
    "trialN"
   ]
  },
  {
   "cell_type": "code",
   "execution_count": 48,
   "metadata": {},
   "outputs": [],
   "source": [
    "# randomize the order of three videos in each triplet\n",
    "def randomize_order_of_elements_in_triplets(twoDarray):\n",
    "    random.seed(0)\n",
    "    randTriplets = [random.sample(triplet, 3) for triplet in twoDarray]\n",
    "    return randTriplets\n"
   ]
  },
  {
   "cell_type": "code",
   "execution_count": 49,
   "metadata": {},
   "outputs": [
    {
     "output_type": "error",
     "ename": "FileNotFoundError",
     "evalue": "[Errno 2] No such file or directory: 'input/expt1.json'",
     "traceback": [
      "\u001b[0;31m---------------------------------------------------------------------------\u001b[0m",
      "\u001b[0;31mFileNotFoundError\u001b[0m                         Traceback (most recent call last)",
      "Input \u001b[0;32mIn [49]\u001b[0m, in \u001b[0;36m<cell line: 1>\u001b[0;34m()\u001b[0m\n\u001b[1;32m      4\u001b[0m randSubjArr \u001b[38;5;241m=\u001b[39m randomize_order_of_trials(subjArr)\n\u001b[1;32m      5\u001b[0m randDisSubjArr \u001b[38;5;241m=\u001b[39m randomize_order_of_elements_in_triplets(randSubjArr)\n\u001b[0;32m----> 6\u001b[0m out_file \u001b[38;5;241m=\u001b[39m \u001b[38;5;28;43mopen\u001b[39;49m\u001b[43m(\u001b[49m\u001b[38;5;124;43m\"\u001b[39;49m\u001b[38;5;124;43minput/expt\u001b[39;49m\u001b[38;5;132;43;01m%s\u001b[39;49;00m\u001b[38;5;124;43m.json\u001b[39;49m\u001b[38;5;124;43m\"\u001b[39;49m\u001b[43m \u001b[49m\u001b[38;5;241;43m%\u001b[39;49m\u001b[43m(\u001b[49m\u001b[43mi\u001b[49m\u001b[38;5;241;43m+\u001b[39;49m\u001b[38;5;241;43m1\u001b[39;49m\u001b[43m)\u001b[49m\u001b[43m,\u001b[49m\u001b[43m \u001b[49m\u001b[38;5;124;43m\"\u001b[39;49m\u001b[38;5;124;43mw\u001b[39;49m\u001b[38;5;124;43m\"\u001b[39;49m\u001b[43m)\u001b[49m\n\u001b[1;32m      7\u001b[0m json\u001b[38;5;241m.\u001b[39mdump({k: v \u001b[38;5;28;01mfor\u001b[39;00m k, v \u001b[38;5;129;01min\u001b[39;00m \u001b[38;5;28menumerate\u001b[39m(subjArr)}, out_file)\n\u001b[1;32m      8\u001b[0m out_file\u001b[38;5;241m.\u001b[39mclose()\n",
      "\u001b[0;31mFileNotFoundError\u001b[0m: [Errno 2] No such file or directory: 'input/expt1.json'"
     ]
    }
   ],
   "source": [
    "for i in range(subjN):\n",
    "    subjArr = randTrials[(i * trialN): (i * trialN + trialN)]\n",
    "    subjArr.extend(easyTrials)\n",
    "    randSubjArr = randomize_order_of_trials(subjArr)\n",
    "    randDisSubjArr = randomize_order_of_elements_in_triplets(randSubjArr)\n",
    "    out_file = open(\"input/expt%s.json\" %(i+1), \"w\")\n",
    "    json.dump({k: v for k, v in enumerate(subjArr)}, out_file)\n",
    "    out_file.close()\n"
   ]
  },
  {
   "cell_type": "code",
   "execution_count": null,
   "metadata": {},
   "outputs": [],
   "source": [
    "for i in range(subjN):\n",
    "    subjArr = randTrials[(i * trialN): (i * trialN + trialN)]\n",
    "    \n",
    "    # out_file = open(\"input/expt%s.json\" %(i+1), \"w\")\n",
    "    # json.dump({k: v for k, v in enumerate(subjArr)}, out_file)\n",
    "    # out_file.close()"
   ]
  },
  {
   "cell_type": "code",
   "execution_count": null,
   "metadata": {},
   "outputs": [],
   "source": []
  },
  {
   "cell_type": "code",
   "execution_count": null,
   "metadata": {},
   "outputs": [],
   "source": []
  },
  {
   "cell_type": "code",
   "execution_count": 17,
   "metadata": {},
   "outputs": [],
   "source": [
    "#randTriplets"
   ]
  },
  {
   "cell_type": "code",
   "execution_count": 20,
   "metadata": {},
   "outputs": [
    {
     "output_type": "execute_result",
     "data": {
      "text/plain": [
       "[['1020', '677', '70'],\n",
       " ['68', '331', '926'],\n",
       " ['363', '1098', '1331'],\n",
       " ['904', '480', '761'],\n",
       " ['1331', '1583', '442']]"
      ]
     },
     "metadata": {},
     "execution_count": 20
    }
   ],
   "source": [
    "randTrials[0:5]"
   ]
  },
  {
   "cell_type": "code",
   "execution_count": 14,
   "metadata": {},
   "outputs": [
    {
     "output_type": "execute_result",
     "data": {
      "text/plain": [
       "376.0"
      ]
     },
     "metadata": {},
     "execution_count": 14
    }
   ],
   "source": [
    "17296/46"
   ]
  },
  {
   "cell_type": "code",
   "execution_count": null,
   "metadata": {},
   "outputs": [],
   "source": [
    "for i in range(subjN):\n",
    "    subjArr = randTrials[(i * trialN): (i * trialN + trialN)]\n",
    "    out_file = open(\"input/expt%s.json\" %(i+1), \"w\")\n",
    "    json.dump({k: v for k, v in enumerate(subjArr)}, out_file)\n",
    "    out_file.close()"
   ]
  }
 ]
}